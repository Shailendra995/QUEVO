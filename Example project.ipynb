{
 "cells": [
  {
   "cell_type": "markdown",
   "id": "74834a90",
   "metadata": {},
   "source": [
    "    Copyright 2022 Sebastian T. Overskott Github link: https://github.com/Overskott/Quevo\n",
    "\n",
    "    Licensed under the Apache License, Version 2.0 (the \"License\");\n",
    "    you may not use this file except in compliance with the License.\n",
    "    You may obtain a copy of the License at\n",
    "\n",
    "        http://www.apache.org/licenses/LICENSE-2.0\n",
    "\n",
    "    Unless required by applicable law or agreed to in writing, software\n",
    "    distributed under the License is distributed on an \"AS IS\" BASIS,\n",
    "    WITHOUT WARRANTIES OR CONDITIONS OF ANY KIND, either express or implied.\n",
    "    See the License for the specific language governing permissions and\n",
    "    limitations under the License."
   ]
  },
  {
   "cell_type": "markdown",
   "id": "b8ae65e3",
   "metadata": {},
   "source": [
    "# Quevo - Example project"
   ]
  },
  {
   "cell_type": "markdown",
   "id": "8a9df381",
   "metadata": {},
   "source": [
    "This notebook shows how you may use the Quevo to find quantum circuits fittet to a 1D Von Neumann neigbourhood for cellular automata. This guide will go through the process of initialising the needed parameters, creating chromosomes generations and in the end simulationg them on the qiskit simulator to see the quantum results."
   ]
  },
  {
   "cell_type": "markdown",
   "id": "338e7913",
   "metadata": {},
   "source": [
    "First we import the Quevo library. __Note!__ You need Qiskit for the library to work."
   ]
  },
  {
   "cell_type": "code",
   "execution_count": 43,
   "id": "e442138e",
   "metadata": {},
   "outputs": [],
   "source": [
    "from Quevo import *"
   ]
  },
  {
   "cell_type": "markdown",
   "id": "ee5469c3",
   "metadata": {},
   "source": [
    "Then we set up the evovlers parameters. \n",
    "- **gates**: The number of quantum gates per circuit.\n",
    "- **chromosomes**: The number of chromosomes or solutions you want in each generation.\n",
    "- **generation**: The number of generations you want to evolve before terminating.\n",
    "- **desired_chance_of_one**: A list of the eight probabilities for the eight CA initial states you want the circuit to generate. There are some example probability list commented. Remove the comment to test them!"
   ]
  },
  {
   "cell_type": "code",
   "execution_count": 44,
   "id": "8a2c2cc8",
   "metadata": {},
   "outputs": [],
   "source": [
    "gates = 5\n",
    "chromosomes = 10\n",
    "generations = 20\n",
    "gate_types = ['cx', 'h', '%x']  # possible gates: # h, cx, x, y, z, swap, rzz, rxx, toffoli\n",
    "\n",
    "desired_chance_of_one = [0.394221, 0.094721, 0.239492, 0.408455, 0.0, 0.730203, 0.915034, 1.0]"
   ]
  },
  {
   "cell_type": "raw",
   "id": "307b6162",
   "metadata": {},
   "source": [
    "Next, initiallize the first generation firn the number of chromosomes and gates per chromosome. After that, populate it with randomly generated chromosomes with the create_initial_generation()-method and print the chromosome list."
   ]
  },
  {
   "cell_type": "code",
   "execution_count": 45,
   "id": "50f78fee",
   "metadata": {},
   "outputs": [
    {
     "name": "stdout",
     "output_type": "stream",
     "text": [
      "Chromosomes: \n",
      "[1, 2, 1, 0, 0, 2, 0, 2, 0, 0, 2, 1, 2, 0, 0]\n",
      "[1, 1, 1, 1, 1, 2, 2, 2, 0, 0, 0, 1, 0, 0, 2]\n",
      "[0, 1, 2, 1, 0, 0, 2, 0, 1, 1, 2, 0, 2, 0, 2]\n",
      "[0, 0, 2, 2, 0, 1, 1, 0, 0, 2, 2, 2, 2, 1, 1]\n",
      "[0, 2, 0, 2, 0, 2, 2, 0, 2, 1, 0, 0, 1, 1, 0]\n",
      "[1, 2, 2, 2, 1, 0, 2, 0, 0, 1, 1, 2, 2, 1, 1]\n",
      "[0, 2, 1, 2, 2, 0, 0, 2, 1, 1, 0, 0, 0, 2, 0]\n",
      "[0, 2, 1, 0, 0, 2, 0, 1, 0, 0, 0, 1, 1, 0, 2]\n",
      "[0, 1, 0, 2, 0, 1, 2, 1, 2, 1, 1, 1, 1, 1, 0]\n",
      "[2, 1, 1, 0, 0, 1, 2, 2, 2, 1, 0, 2, 0, 2, 0]\n",
      "\n",
      "\n"
     ]
    }
   ],
   "source": [
    "# Generate initial generation of chromosomes\n",
    "init_gen = Generation(chromosomes, gates)\n",
    "init_gen.create_initial_generation(gate_types)\n",
    "init_gen.print_chromosomes()\n",
    "\n"
   ]
  },
  {
   "cell_type": "markdown",
   "id": "b61d66b0",
   "metadata": {},
   "source": [
    "Then we check all the chromosomes fitness and print the best one found."
   ]
  },
  {
   "cell_type": "code",
   "execution_count": 46,
   "id": "46e173a1",
   "metadata": {},
   "outputs": [
    {
     "name": "stdout",
     "output_type": "stream",
     "text": [
      "Fitness for best chromosome: 2.449348\n",
      "Best chromosome: \n",
      "[0, 1, 2, 1, 0, 0, 2, 0, 1, 1, 2, 0, 2, 0, 2]\n",
      "\n",
      "\n"
     ]
    }
   ],
   "source": [
    "init_gen.run_generation_diff(desired_chance_of_one)\n",
    "\n",
    "print(\"Fitness for best chromosome: \" + str(init_gen.get_best_fitness()) + \"\\n\"\n",
    "      + \"Best chromosome: \\n\" + str(init_gen.get_best_chromosome()))\n",
    "print(\"\\n\")"
   ]
  },
  {
   "cell_type": "markdown",
   "id": "4a1b901e",
   "metadata": {},
   "source": [
    "Before we can start the evolution, we need to declare some container values fopr the best performing chromosome."
   ]
  },
  {
   "cell_type": "code",
   "execution_count": 36,
   "id": "0fdcf3d0",
   "metadata": {},
   "outputs": [],
   "source": [
    "# Final value placeholders\n",
    "current_chromosome = init_gen.get_best_chromosome()\n",
    "best_chromosome = current_chromosome\n",
    "final_fitness = init_gen.get_best_fitness()"
   ]
  },
  {
   "cell_type": "markdown",
   "id": "da9ed79e",
   "metadata": {},
   "source": [
    "Then we create a loop for the number of generations, and every time find the best chromosome in the generation to be a parent for the next generation."
   ]
  },
  {
   "cell_type": "code",
   "execution_count": 38,
   "id": "ea128268",
   "metadata": {},
   "outputs": [
    {
     "name": "stdout",
     "output_type": "stream",
     "text": [
      "Fitness for best mutated chromosome in mutation 1: 2.0789999999999997\n",
      "Best mutated chromosome:\n",
      "[1, 1, 0, 0, 0, 2, 2, 0, 2, 0, 1, 0, 1, 0, 1]\n",
      "\n",
      "\n",
      "New best!\n",
      "\n",
      "\n",
      "------------------------------------------------------------------------------\n",
      "Fitness for best mutated chromosome in mutation 2: 2.041\n",
      "Best mutated chromosome:\n",
      "[1, 1, 0, 0, 0, 2, 0, 2, 0, 0, 1, 0, 1, 0, 1]\n",
      "\n",
      "\n",
      "New best!\n",
      "\n",
      "\n",
      "------------------------------------------------------------------------------\n",
      "Fitness for best mutated chromosome in mutation 3: 2.052\n",
      "Best mutated chromosome:\n",
      "[1, 1, 0, 0, 0, 2, 0, 2, 0, 0, 1, 0, 2, 1, 2]\n",
      "\n",
      "\n",
      "------------------------------------------------------------------------------\n",
      "Fitness for best mutated chromosome in mutation 4: 2.047\n",
      "Best mutated chromosome:\n",
      "[1, 1, 0, 0, 0, 2, 0, 2, 0, 0, 1, 0, 1, 2, 1]\n",
      "\n",
      "\n",
      "------------------------------------------------------------------------------\n",
      "Fitness for best mutated chromosome in mutation 5: 2.038\n",
      "Best mutated chromosome:\n",
      "[1, 1, 0, 0, 0, 2, 0, 2, 0, 0, 1, 0, 0, 0, 1]\n",
      "\n",
      "\n",
      "New best!\n",
      "\n",
      "\n",
      "------------------------------------------------------------------------------\n",
      "Fitness for best mutated chromosome in mutation 6: 2.0789999999999997\n",
      "Best mutated chromosome:\n",
      "[1, 1, 0, 1, 0, 2, 0, 2, 0, 0, 1, 0, 0, 0, 1]\n",
      "\n",
      "\n",
      "------------------------------------------------------------------------------\n",
      "Fitness for best mutated chromosome in mutation 7: 2.0999999999999996\n",
      "Best mutated chromosome:\n",
      "[0, 2, 0, 1, 0, 2, 0, 2, 0, 0, 1, 0, 0, 0, 1]\n",
      "\n",
      "\n",
      "------------------------------------------------------------------------------\n",
      "Fitness for best mutated chromosome in mutation 8: 2.051\n",
      "Best mutated chromosome:\n",
      "[0, 2, 0, 1, 0, 2, 0, 2, 0, 1, 2, 1, 0, 0, 1]\n",
      "\n",
      "\n",
      "------------------------------------------------------------------------------\n",
      "Fitness for best mutated chromosome in mutation 9: 2.019\n",
      "Best mutated chromosome:\n",
      "[0, 0, 2, 1, 0, 2, 0, 2, 0, 1, 2, 1, 0, 0, 1]\n",
      "\n",
      "\n",
      "New best!\n",
      "\n",
      "\n",
      "------------------------------------------------------------------------------\n",
      "Fitness for best mutated chromosome in mutation 10: 2.043\n",
      "Best mutated chromosome:\n",
      "[0, 0, 2, 1, 0, 2, 0, 2, 0, 1, 2, 1, 0, 0, 1]\n",
      "\n",
      "\n",
      "------------------------------------------------------------------------------\n",
      "Fitness for best mutated chromosome in mutation 11: 2.0709999999999997\n",
      "Best mutated chromosome:\n",
      "[0, 0, 2, 1, 0, 2, 0, 2, 0, 2, 1, 2, 0, 0, 1]\n",
      "\n",
      "\n",
      "------------------------------------------------------------------------------\n",
      "Fitness for best mutated chromosome in mutation 12: 2.077\n",
      "Best mutated chromosome:\n",
      "[0, 0, 2, 1, 0, 2, 0, 2, 0, 0, 2, 1, 0, 0, 1]\n",
      "\n",
      "\n",
      "------------------------------------------------------------------------------\n",
      "Fitness for best mutated chromosome in mutation 13: 2.062\n",
      "Best mutated chromosome:\n",
      "[0, 0, 2, 1, 0, 2, 0, 2, 0, 0, 0, 1, 0, 0, 1]\n",
      "\n",
      "\n",
      "------------------------------------------------------------------------------\n",
      "Fitness for best mutated chromosome in mutation 14: 2.0359999999999996\n",
      "Best mutated chromosome:\n",
      "[0, 0, 2, 1, 0, 2, 0, 2, 0, 0, 0, 1, 2, 2, 1]\n",
      "\n",
      "\n",
      "------------------------------------------------------------------------------\n",
      "Fitness for best mutated chromosome in mutation 15: 2.0229999999999997\n",
      "Best mutated chromosome:\n",
      "[0, 2, 1, 1, 0, 2, 0, 2, 0, 0, 0, 1, 2, 2, 1]\n",
      "\n",
      "\n",
      "------------------------------------------------------------------------------\n",
      "Fitness for best mutated chromosome in mutation 16: 2.0309999999999997\n",
      "Best mutated chromosome:\n",
      "[0, 2, 1, 1, 0, 2, 1, 2, 2, 0, 0, 1, 2, 2, 1]\n",
      "\n",
      "\n",
      "------------------------------------------------------------------------------\n",
      "Fitness for best mutated chromosome in mutation 17: 2.043\n",
      "Best mutated chromosome:\n",
      "[0, 2, 1, 1, 0, 2, 0, 1, 0, 0, 0, 1, 2, 2, 1]\n",
      "\n",
      "\n",
      "------------------------------------------------------------------------------\n",
      "Fitness for best mutated chromosome in mutation 18: 2.048\n",
      "Best mutated chromosome:\n",
      "[0, 2, 1, 1, 0, 2, 0, 1, 0, 0, 0, 1, 2, 2, 0]\n",
      "\n",
      "\n",
      "------------------------------------------------------------------------------\n",
      "Fitness for best mutated chromosome in mutation 19: 2.041\n",
      "Best mutated chromosome:\n",
      "[0, 2, 1, 1, 0, 2, 0, 1, 0, 0, 0, 2, 2, 2, 0]\n",
      "\n",
      "\n",
      "------------------------------------------------------------------------------\n",
      "Fitness for best mutated chromosome in mutation 20: 2.053\n",
      "Best mutated chromosome:\n",
      "[2, 1, 0, 1, 0, 2, 0, 1, 0, 0, 0, 2, 2, 2, 0]\n",
      "\n",
      "\n",
      "------------------------------------------------------------------------------\n"
     ]
    }
   ],
   "source": [
    "# Mutation loop\n",
    "for gen in range(0, generations):\n",
    "\n",
    "    # Mutate next generation of chromosomes\n",
    "    next_gen = Generation(chromosomes, gates)\n",
    "    next_gen.create_mutated_generation(current_chromosome)\n",
    "\n",
    "    # Check every Chromosome's fitness\n",
    "    next_gen.run_generation_diff(desired_chance_of_one)\n",
    "\n",
    "    current_fitness = next_gen.get_best_fitness()\n",
    "    current_chromosome = next_gen.get_best_chromosome()\n",
    "    \n",
    "    # Print generation best result\n",
    "    print(\"Fitness for best mutated chromosome in mutation \" + str(gen + 1) + \": \"\n",
    "          + str(current_fitness) + \"\\n\"\n",
    "          + \"Best mutated chromosome:\\n\" + str(next_gen.get_best_chromosome()))\n",
    "    print(\"\\n\")\n",
    "\n",
    "    # Check if there is a new_list best chromosome\n",
    "\n",
    "    if final_fitness > current_fitness:\n",
    "        final_fitness = current_fitness\n",
    "        best_chromosome = current_chromosome\n",
    "        print(\"New best!\")\n",
    "        \n",
    "        print(\"\\n\")\n",
    "    if current_fitness < 0.01: # Stop if high enough fitness is reached\n",
    "        break\n",
    "    print(\"------------------------------------------------------------------------------\")\n"
   ]
  },
  {
   "cell_type": "markdown",
   "id": "f34ca9f6",
   "metadata": {},
   "source": [
    "Last, let's print the result of the best found ciurcuit and visualize it."
   ]
  },
  {
   "cell_type": "code",
   "execution_count": 39,
   "id": "595c520a",
   "metadata": {},
   "outputs": [
    {
     "name": "stdout",
     "output_type": "stream",
     "text": [
      "Best fitness found: 2.019\n",
      "Best chromosome found: [0, 0, 2, 1, 0, 2, 0, 2, 0, 1, 2, 1, 0, 0, 1]\n",
      "\n",
      "\n",
      "Initial State | Desired outcome | Actual outcome  | Difference\n",
      "[0, 0, 0]           0.5000           0.5030           0.0030\n",
      "[0, 0, 1]           0.7000           0.4900           0.2100\n",
      "[0, 1, 0]           0.4000           0.5270           0.1270\n",
      "[0, 1, 1]           0.0000           0.5180           0.5180\n",
      "[1, 0, 0]           0.2000           0.4930           0.2930\n",
      "[1, 0, 1]           0.7000           0.4600           0.2400\n",
      "[1, 1, 0]           0.1000           0.5080           0.4080\n",
      "[1, 1, 1]           0.9000           0.4870           0.4130\n",
      "Total difference: 2.2119999999999997\n",
      "          ┌───┐┌───┐     ┌─┐\n",
      "q_0: ──■──┤ H ├┤ X ├──■──┤M├\n",
      "       │  └───┘└─┬─┘┌─┴─┐└╥┘\n",
      "q_1: ──┼─────────┼──┤ X ├─╫─\n",
      "     ┌─┴─┐       │  ├───┤ ║ \n",
      "q_2: ┤ X ├───────■──┤ H ├─╫─\n",
      "     └───┘          └───┘ ║ \n",
      "c: 1/═════════════════════╩═\n",
      "                          0 \n"
     ]
    }
   ],
   "source": [
    "print(\"Best fitness found: \" + str(final_fitness))\n",
    "print(\"Best chromosome found: \" + str(best_chromosome))\n",
    "print(\"\\n\")\n",
    "circuit = Circuit(best_chromosome)\n",
    "circuit.print_ca_outcomes(desired_chance_of_one)\n",
    "\n",
    "\n",
    "circuit.generate_circuit()\n",
    "circuit.draw()"
   ]
  },
  {
   "cell_type": "code",
   "execution_count": null,
   "id": "e09575bf",
   "metadata": {},
   "outputs": [],
   "source": []
  }
 ],
 "metadata": {
  "kernelspec": {
   "display_name": "Python 3 (ipykernel)",
   "language": "python",
   "name": "python3"
  },
  "language_info": {
   "codemirror_mode": {
    "name": "ipython",
    "version": 3
   },
   "file_extension": ".py",
   "mimetype": "text/x-python",
   "name": "python",
   "nbconvert_exporter": "python",
   "pygments_lexer": "ipython3",
   "version": "3.9.6"
  }
 },
 "nbformat": 4,
 "nbformat_minor": 5
}
