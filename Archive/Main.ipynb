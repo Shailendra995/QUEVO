{
 "cells": [
  {
   "cell_type": "code",
   "execution_count": 2,
   "metadata": {},
   "outputs": [],
   "source": [
    "import numpy as np\n",
    "import random\n",
    "from qiskit import *\n",
    "from qiskit.visualization import plot_histogram\n",
    "from qiskit.providers.aer import AerSimulator"
   ]
  },
  {
   "cell_type": "code",
   "execution_count": 3,
   "metadata": {},
   "outputs": [],
   "source": [
    "def generateGateString(number_of_gates):\n",
    "    # Returns a randomly generated string representation of given number of qbits\n",
    "    \n",
    "    number_of_gates = number_of_gates\n",
    "    string_length = number_of_gates*3\n",
    "    integer_string = []\n",
    "\n",
    "    for i in range(string_length):\n",
    "        if(i%3==0):\n",
    "            integer_string.append(random.randrange(0,5))\n",
    "        else:\n",
    "            integer_string.append(random.randrange(0,3))\n",
    "\n",
    "    for i in range (0, int(string_length/3)):\n",
    "        int_index = i*3\n",
    "\n",
    "        if(integer_string[int_index]==0 and integer_string[int_index+1] == integer_string[int_index + 2]):\n",
    "            if(integer_string[int_index+1]== 0):\n",
    "                integer_string[int_index+1]=random.randrange(1,3)\n",
    "            elif (integer_string[int_index+1]== 1):\n",
    "                integer_string[int_index+2]=0 # TODO - hardcoded\n",
    "            elif (integer_string[int_index+1]== 2):\n",
    "                integer_string[int_index+2]=random.randrange(0,2)\n",
    "    print(integer_string)\n",
    "    return integer_string"
   ]
  },
  {
   "cell_type": "code",
   "execution_count": 9,
   "metadata": {},
   "outputs": [],
   "source": [
    "def generateCircuitFromString(integer_string):\n",
    "    # Parsing integer string and converting it to gates\n",
    "    string_length = number_of_gates*3\n",
    "\n",
    "    for i in range (0, int(string_length/3)):\n",
    "        gate_index = i*3\n",
    "\n",
    "        a=integer_string[gate_index]\n",
    "        b=integer_string[gate_index+1]\n",
    "        c=integer_string[gate_index+2]\n",
    "\n",
    "        if (a==0):\n",
    "            circuit.cx(b,c)\n",
    "        elif (a==1):\n",
    "            circuit.x(b)\n",
    "        elif (a==2):\n",
    "            circuit.h(b)\n",
    "        elif (a==3):\n",
    "            circuit.y(b)\n",
    "        elif (a==4):\n",
    "            circuit.z(b)\n",
    "            \n",
    "\n",
    "    circuit.measure(0,0)"
   ]
  },
  {
   "cell_type": "code",
   "execution_count": 10,
   "metadata": {},
   "outputs": [],
   "source": [
    "def initializeCAstates(triplet):\n",
    "        \n",
    "        if (triplet[0]==1):\n",
    "            circuit.x(0)\n",
    "        if (triplet[1]==1):\n",
    "            circuit.x(1)\n",
    "        if (triplet[2]==1):\n",
    "            circuit.x(2)"
   ]
  },
  {
   "cell_type": "code",
   "execution_count": 11,
   "metadata": {},
   "outputs": [],
   "source": [
    "def runCircuit(circuit, number_of_shots):\n",
    "    aer_sim = Aer.get_backend('aer_simulator')\n",
    "    qobj = assemble(circuit, shots=number_of_shots)\n",
    "    job = aer_sim.run(qobj)\n",
    "    counts = job.result().get_counts()\n",
    "\n",
    "    print(counts)"
   ]
  },
  {
   "cell_type": "code",
   "execution_count": null,
   "metadata": {},
   "outputs": [],
   "source": [
    "\n",
    "    "
   ]
  },
  {
   "cell_type": "code",
   "execution_count": 13,
   "metadata": {
    "scrolled": true
   },
   "outputs": [
    {
     "name": "stdout",
     "output_type": "stream",
     "text": [
      "[1, 2, 2, 2, 2, 0, 2, 2, 0, 4, 0, 2, 1, 2, 1, 2, 2, 0, 3, 0, 1, 3, 2, 0, 2, 0, 0, 1, 0, 1]\n",
      "{'0': 526, '1': 498}\n",
      "{'1': 493, '0': 531}\n",
      "{'1': 503, '0': 521}\n",
      "{'1': 516, '0': 508}\n",
      "{'0': 484, '1': 540}\n",
      "{'1': 534, '0': 490}\n",
      "{'1': 483, '0': 541}\n",
      "{'0': 483, '1': 541}\n"
     ]
    },
    {
     "data": {
      "text/html": [
       "<pre style=\"word-wrap: normal;white-space: pre;background: #fff0;line-height: 1.1;font-family: &quot;Courier New&quot;,Courier,monospace\">     ┌───┐┌───┐┌───┐┌───┐┌───┐     ┌─┐     \n",
       "q_0: ┤ X ├┤ Z ├┤ Y ├┤ H ├┤ X ├─────┤M├─────\n",
       "     ├───┤└───┘└───┘└───┘└───┘     └╥┘     \n",
       "q_1: ┤ X ├──────────────────────────╫──────\n",
       "     ├───┤┌───┐┌───┐┌───┐┌───┐┌───┐ ║ ┌───┐\n",
       "q_2: ┤ X ├┤ X ├┤ H ├┤ H ├┤ X ├┤ H ├─╫─┤ Y ├\n",
       "     └───┘└───┘└───┘└───┘└───┘└───┘ ║ └───┘\n",
       "c: 1/═══════════════════════════════╩══════\n",
       "                                    0      </pre>"
      ],
      "text/plain": [
       "     ┌───┐┌───┐┌───┐┌───┐┌───┐     ┌─┐     \n",
       "q_0: ┤ X ├┤ Z ├┤ Y ├┤ H ├┤ X ├─────┤M├─────\n",
       "     ├───┤└───┘└───┘└───┘└───┘     └╥┘     \n",
       "q_1: ┤ X ├──────────────────────────╫──────\n",
       "     ├───┤┌───┐┌───┐┌───┐┌───┐┌───┐ ║ ┌───┐\n",
       "q_2: ┤ X ├┤ X ├┤ H ├┤ H ├┤ X ├┤ H ├─╫─┤ Y ├\n",
       "     └───┘└───┘└───┘└───┘└───┘└───┘ ║ └───┘\n",
       "c: 1/═══════════════════════════════╩══════\n",
       "                                    0      "
      ]
     },
     "execution_count": 13,
     "metadata": {},
     "output_type": "execute_result"
    }
   ],
   "source": [
    "# Main\n",
    "qubits = 3\n",
    "number_of_gates = 10\n",
    "number_of_shots = 1024\n",
    "starting_states_CA= [[0,0,0],\n",
    "                     [0,0,1],\n",
    "                     [0,1,0],\n",
    "                     [0,1,1],\n",
    "                     [1,0,0],\n",
    "                     [1,0,1],\n",
    "                     [1,1,0],\n",
    "                     [1,1,1]]\n",
    "\n",
    "\n",
    "gateStringRepresentation = generateGateString(number_of_gates)\n",
    "\n",
    "for triplet in starting_states_CA:\n",
    "    # Initialize circuit\n",
    "    circuit = QuantumCircuit(qubits,1)\n",
    "    \n",
    "    initializeCAstates(triplet)\n",
    "    \n",
    "    generateCircuitFromString(gateStringRepresentation)\n",
    "    \n",
    "    runCircuit(circuit, number_of_shots)\n",
    "\n",
    "#Draw circuit\n",
    "circuit.draw()\n"
   ]
  },
  {
   "cell_type": "code",
   "execution_count": 8,
   "metadata": {},
   "outputs": [],
   "source": [
    "# Printing probability of getting 1\n",
    "#if (counts['0']== number_of_shots):\n",
    "#    print(0)\n",
    "#else:\n",
    "#    print(100*counts['1']/number_of_shots)\n"
   ]
  },
  {
   "cell_type": "code",
   "execution_count": null,
   "metadata": {},
   "outputs": [],
   "source": []
  }
 ],
 "metadata": {
  "kernelspec": {
   "display_name": "Python 3",
   "language": "python",
   "name": "python3"
  },
  "language_info": {
   "codemirror_mode": {
    "name": "ipython",
    "version": 3
   },
   "file_extension": ".py",
   "mimetype": "text/x-python",
   "name": "python",
   "nbconvert_exporter": "python",
   "pygments_lexer": "ipython3",
   "version": "3.8.3"
  }
 },
 "nbformat": 4,
 "nbformat_minor": 5
}
